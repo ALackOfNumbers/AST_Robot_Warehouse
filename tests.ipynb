{
 "cells": [
  {
   "cell_type": "code",
   "execution_count": 21,
   "metadata": {},
   "outputs": [
    {
     "name": "stdout",
     "output_type": "stream",
     "text": [
      "#######################################@###########################################\n",
      "#B    { }{ }{ }                                                 #                B#\n",
      "#      -  -  -                                                  #                 #\n",
      "#                           [ ] [ ] [ ] [ ] [ ] [ ]             #                 #\n",
      "#                           [ ] [ ] [ ] [ ] [ ] [ ]             #                 #\n",
      "#                           [ ] [ ] [ ] [ ] [ ] [ ]                               #\n",
      "#                           [ ] [ ] [ ] [ ] [ ] [ ]             #                 #\n",
      "#C        1                 [ ] [ ] [ ] [ ] [ ] [ ]             ###########  ######\n",
      "#C        2                 [ ] [ ] [ ] [ ] [ ] [ ]                               @\n",
      "#C        3                 [ ] [ ] [ ] [ ] [ ] [ ]             ###########  ######\n",
      "#                           [ ] [ ] [ ] [ ] [ ] [ ]             #                 #\n",
      "#                           [ ] [ ] [ ] [ ] [ ] [ ]                               #\n",
      "#                                                               #                 #\n",
      "#       -  -                                                    #                 #\n",
      "#B     < >< >                                                   #                B#\n",
      "#######################################@###########################################\n",
      ".1.\n",
      "83\n",
      "16\n"
     ]
    }
   ],
   "source": [
    "string_map = \"\"\"#######################################@###########################################\n",
    "#B    { }{ }{ }                                                 #                B#\n",
    "#      -  -  -                                                  #                 #\n",
    "#                           [ ] [ ] [ ] [ ] [ ] [ ]             #                 #\n",
    "#                           [ ] [ ] [ ] [ ] [ ] [ ]             #                 #\n",
    "#                           [ ] [ ] [ ] [ ] [ ] [ ]                               #\n",
    "#                           [ ] [ ] [ ] [ ] [ ] [ ]             #                 #\n",
    "#C        1                 [ ] [ ] [ ] [ ] [ ] [ ]             ###########  ######\n",
    "#C        2                 [ ] [ ] [ ] [ ] [ ] [ ]                               @\n",
    "#C        3                 [ ] [ ] [ ] [ ] [ ] [ ]             ###########  ######\n",
    "#                           [ ] [ ] [ ] [ ] [ ] [ ]             #                 #\n",
    "#                           [ ] [ ] [ ] [ ] [ ] [ ]                               #\n",
    "#                                                               #                 #\n",
    "#       -  -                                                    #                 #\n",
    "#B     < >< >                                                   #                B#\n",
    "#######################################@###########################################\n",
    "\"\"\"\n",
    "row = []\n",
    "list_map = []\n",
    "for char in string_map:\n",
    "    if char != '\\n':\n",
    "        row.append(char)\n",
    "    else:\n",
    "        list_map.append(row)\n",
    "        row = []\n",
    "\n",
    "for row in list_map:\n",
    "    for char in row:\n",
    "        print(char,end=\"\")\n",
    "    print(\"\")\n",
    "\n",
    "print('.'+list_map[7][10]+'.')\n",
    "print(len(list_map[0]))\n",
    "print(len(list_map))"
   ]
  },
  {
   "cell_type": "code",
   "execution_count": 22,
   "metadata": {},
   "outputs": [
    {
     "name": "stdout",
     "output_type": "stream",
     "text": [
      "54\n",
      "[[3, 29], [3, 33], [3, 37], [3, 41], [3, 45], [3, 49], [4, 29], [4, 33], [4, 37], [4, 41], [4, 45], [4, 49], [5, 29], [5, 33], [5, 37], [5, 41], [5, 45], [5, 49], [6, 29], [6, 33], [6, 37], [6, 41], [6, 45], [6, 49], [7, 29], [7, 33], [7, 37], [7, 41], [7, 45], [7, 49], [8, 29], [8, 33], [8, 37], [8, 41], [8, 45], [8, 49], [9, 29], [9, 33], [9, 37], [9, 41], [9, 45], [9, 49], [10, 29], [10, 33], [10, 37], [10, 41], [10, 45], [10, 49], [11, 29], [11, 33], [11, 37], [11, 41], [11, 45], [11, 49]]\n",
      "#######################################@###########################################\n",
      "#B    { }{ }{ }                                                 #                B#\n",
      "#      -  -  -                                                  #                 #\n",
      "#                           [x] [x] [x] [x] [x] [x]             #                 #\n",
      "#                           [x] [x] [x] [x] [x] [x]             #                 #\n",
      "#                           [x] [x] [x] [x] [x] [x]                               #\n",
      "#                           [x] [x] [x] [x] [x] [x]             #                 #\n",
      "#C        1                 [x] [x] [x] [x] [x] [x]             ###########  ######\n",
      "#C        2                 [x] [x] [x] [x] [x] [x]                               @\n",
      "#C        3                 [x] [x] [x] [x] [x] [x]             ###########  ######\n",
      "#                           [x] [x] [x] [x] [x] [x]             #                 #\n",
      "#                           [x] [x] [x] [x] [x] [x]                               #\n",
      "#                                                               #                 #\n",
      "#       -  -                                                    #                 #\n",
      "#B     < >< >                                                   #                B#\n",
      "#######################################@###########################################\n"
     ]
    }
   ],
   "source": [
    "x_start = 3\n",
    "x_end = 12\n",
    "y_start = 29\n",
    "y_end = 49\n",
    "\n",
    "shelf_coords = []\n",
    "for x in range(3,12):\n",
    "    for y in range(29,50,4):\n",
    "        shelf_coords.append([x,y])\n",
    "print(len(shelf_coords))\n",
    "print(shelf_coords)\n",
    "\n",
    "for coord in shelf_coords:\n",
    "    list_map[coord[0]][coord[1]]='x'\n",
    "\n",
    "for row in list_map:\n",
    "    for char in row:\n",
    "        print(char,end=\"\")\n",
    "    print(\"\")"
   ]
  },
  {
   "cell_type": "code",
   "execution_count": null,
   "metadata": {},
   "outputs": [],
   "source": [
    "        # for item_type in request.delivery_contents:\n",
    "        #     for individual_item in item_type.quantity:\n",
    "\n",
    "        #         self.get_logger().info('Determining shelf')\n",
    "        #         #Determine the shelf to go to\n",
    "        #         for shelf in self.shelf_coords:\n",
    "        #             if self.current_map[shelf[0]][shelf[1]] == ' ':\n",
    "        #                 goal_coords = shelf\n",
    "\n",
    "        #         #TODO properly move instead of teleporting\n",
    "        #         #Move item to shelf\n",
    "        #         self.get_logger().info('Moving item')\n",
    "        #         self.send_goal_move_item(item_type,mpmsg.Coordinates(x=float(self.map_locations['delivery1'][0]),y=self.map_locations['delivery1'][1]),mpmsg.Coordinates(x=float(goal_coords[0]),y=float(goal_coords[1]-1)))\n",
    "\n",
    "        #         #Repopulate the item in the delivery port\n",
    "        #         self.update_map(add=[[\"I\",3,7]])\n",
    "\n",
    "        #         #TODO properly move instead of teleporting\n",
    "        #         self.get_logger().info('Moving to delivery')\n",
    "        #         #Move to delivery with no item\n",
    "        #         empty_item = mpmsg.Item()\n",
    "        #         empty_item.name = 'None'\n",
    "        #         empty_item.age = 0.0\n",
    "        #         empty_item.location = mpmsg.Coordinates(x=0.0,y=0.0)\n",
    "        #         empty_item.quantity = 0\n",
    "        #         self.send_goal_move_item(empty_item, mpmsg.Coordinates(x=float(goal_coords[0]),y=float(goal_coords[1]-1)),mpmsg.Coordinates(x=float(self.map_locations['delivery1'][0]),y=self.map_locations['delivery1'][1]))"
   ]
  },
  {
   "cell_type": "code",
   "execution_count": null,
   "metadata": {},
   "outputs": [],
   "source": []
  }
 ],
 "metadata": {
  "interpreter": {
   "hash": "1b15b47e994a45b2c1c9c2019b348cb81bbb68780db9285c808c045d049d064a"
  },
  "kernelspec": {
   "display_name": "Python 3.8.8 64-bit ('base': conda)",
   "language": "python",
   "name": "python3"
  },
  "language_info": {
   "codemirror_mode": {
    "name": "ipython",
    "version": 3
   },
   "file_extension": ".py",
   "mimetype": "text/x-python",
   "name": "python",
   "nbconvert_exporter": "python",
   "pygments_lexer": "ipython3",
   "version": "3.8.8"
  },
  "orig_nbformat": 4
 },
 "nbformat": 4,
 "nbformat_minor": 2
}
